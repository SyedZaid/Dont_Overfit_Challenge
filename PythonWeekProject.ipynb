{
 "cells": [
  {
   "cell_type": "code",
   "execution_count": null,
   "metadata": {},
   "outputs": [],
   "source": [
    "import pandas as pd\n",
    "from sklearn.preprocessing import StandardScaler\n",
    "from sklearn.linear_model import LassoCV, LogisticRegressionCV, RidgeCV, SGDClassifier\n",
    "\n",
    "train = pd.read_csv('train.csv')\n",
    "test = pd.read_csv('test.csv')\n",
    "x = train.drop(['id','target'], axis=1)\n",
    "sample_x = train['id']\n",
    "y = train['target']\n",
    "final=test.drop(['id'],axis=1)\n",
    "\n",
    "standard_scaler = StandardScaler()\n",
    "standard_scaler.fit(x)\n",
    "x_transformed = standard_scaler.transform(x)\n",
    "final_transformed = standard_scaler.transform(final)\n",
    "\n",
    "model = LassoCV().fit(x_transformed,y)\n",
    "\n",
    "submission = pd.read_csv('sample_submission.csv')\n",
    "submission['target'] = model.predict(final_transformed)\n",
    "submission.to_csv('submission_la.csv', index=False)"
   ]
  }
 ],
 "metadata": {
  "kernelspec": {
   "display_name": "Python 3",
   "language": "python",
   "name": "python3"
  },
  "language_info": {
   "codemirror_mode": {
    "name": "ipython",
    "version": 3
   },
   "file_extension": ".py",
   "mimetype": "text/x-python",
   "name": "python",
   "nbconvert_exporter": "python",
   "pygments_lexer": "ipython3",
   "version": "3.7.0"
  }
 },
 "nbformat": 4,
 "nbformat_minor": 2
}
